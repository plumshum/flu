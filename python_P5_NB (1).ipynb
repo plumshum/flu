{
 "cells": [
  {
   "cell_type": "markdown",
   "metadata": {
    "cellIdentifier": "xc9rlnedqwjj2uc0xlm1",
    "deletable": false,
    "editable": false,
    "nbgrader": {
     "grade": false,
     "locked": true,
     "solution": false
    }
   },
   "source": [
    "<h2>Project 5: Na&iuml;ve Bayes</h2>"
   ]
  },
  {
   "cell_type": "markdown",
   "metadata": {
    "cellIdentifier": "dbd5qw2xs0kpw0ctvl7eq",
    "deletable": false,
    "editable": false,
    "nbgrader": {
     "grade": false,
     "locked": true,
     "solution": false
    }
   },
   "source": [
    "<h3>Introduction</h3>\n",
    "<!--Aðalbrandr-->\n",
    "\n",
    "<p> You recently decided that you want to take the machine learning course at Cornell University. You're super excited to learn ML but are very confused during lectures. You realize that it's because your German professor just throws in German words while explaining concepts and you have no idea what these mean! You could just tell him you don't understand German but you're a proud engineer! There's got to be a better way. Something that doesn't involve communicating because, you know, that's not our forte (just kidding). So, you decide to create a system that detects every time a word is German and translates it for you in the subtitles. In this project, you will just implement the first part of this system using Na&iuml;ve Bayes to predict if a word is German or English. </p>\n",
    "<p>\n",
    "<strong>P5 Deadlines:</strong> \n",
    "The deadline for this project is on <strong>Nov. 14th (5:00 pm EST)</strong>. The late deadline is on <strong>Nov. 18th (5:00 pm EST)</strong>.\n",
    "</p>"
   ]
  },
  {
   "cell_type": "markdown",
   "metadata": {
    "cellIdentifier": "o6okk8399s1k755zltg7r",
    "deletable": false,
    "editable": false,
    "nbgrader": {
     "grade": false,
     "locked": true,
     "solution": false
    }
   },
   "source": [
    "<h3> English and German words </h3>\n",
    "\n",
    "<p> Take a look at the files <code>english_train.txt</code> and <code>german_train.txt</code>. For example with the unix command <pre>cat german_train.txt</pre> \n",
    "<pre>\n",
    "...\n",
    "bibliothek\n",
    "aufzuhalten\n",
    "maegde\n",
    "rupfen\n",
    "leer\n",
    "merkte\n",
    "sucht\n",
    "launenhaften\n",
    "graeten\n",
    "</pre>\n",
    "\n",
    "The problem with the current file is that the words are in plain text, which makes it hard for a machine learning algorithm to learn anything useful from them. We therefore need to transform them into some vector format, where each word becomes a vector that represents a point in some high dimensional input space. </p>\n",
    "\n",
    "<p>That is exactly what the following Python function <code>language2features</code> does: </p>"
   ]
  },
  {
   "cell_type": "code",
   "execution_count": 3,
   "metadata": {
    "cellIdentifier": "qlgvs6juy7pi1x0uf6xun",
    "nbgrader": {
     "grade": false,
     "locked": false,
     "solution": false
    }
   },
   "outputs": [],
   "source": [
    "#<GRADED>\n",
    "import numpy as np\n",
    "import sys\n",
    "from matplotlib import pyplot as plt\n",
    "#</GRADED>\n",
    "\n",
    "%matplotlib inline"
   ]
  },
  {
   "cell_type": "code",
   "execution_count": 4,
   "metadata": {
    "cellIdentifier": "78113oisqeehg9fpkp1dwj",
    "deletable": false,
    "editable": false,
    "nbgrader": {
     "grade": false,
     "locked": true,
     "solution": false
    }
   },
   "outputs": [],
   "source": [
    "def feature_extraction_letters(word, B):\n",
    "    v = np.zeros(B)\n",
    "    for letter in word:\n",
    "        v[ord(letter) - 97] += 1\n",
    "    return v"
   ]
  },
  {
   "cell_type": "code",
   "execution_count": 5,
   "metadata": {
    "cellIdentifier": "p0cwh7xv3c2im07yijrtf",
    "deletable": false,
    "editable": false,
    "nbgrader": {
     "grade": false,
     "locked": true,
     "solution": false
    }
   },
   "outputs": [],
   "source": [
    "def language2features(filename, B=26, LoadFile=True):\n",
    "    \"\"\"\n",
    "    Output:\n",
    "    X : n feature vectors of dimension B, (n,B)\n",
    "    \"\"\"\n",
    "    if LoadFile:\n",
    "        with open(filename, 'r') as f:\n",
    "            words = [x.rstrip() for x in f.readlines() if len(x) > 0]\n",
    "    else:\n",
    "        words = filename.split('\\n')\n",
    "    n = len(words)\n",
    "    X = np.zeros((n, B))\n",
    "    for i in range(n):\n",
    "        X[i,:] = feature_extraction_letters(words[i].lower(), B)\n",
    "    return X"
   ]
  },
  {
   "cell_type": "markdown",
   "metadata": {
    "cellIdentifier": "eu34nattmnruldp8tozwfp",
    "deletable": false,
    "editable": false,
    "nbgrader": {
     "grade": false,
     "locked": true,
     "solution": false
    }
   },
   "source": [
    "<p>It reads every word in the given file and converts it into a 26-dimensional feature vector by mapping each letter to a feature. The generated vector is a histogram containing the number of occurrences of each letter in the word.</p> \n",
    "\n",
    "<p>We have provided you with a python function <code>genFeatures</code>, which calls this function, transforms the words into features and loads them into memory. "
   ]
  },
  {
   "cell_type": "code",
   "execution_count": 6,
   "metadata": {
    "cellIdentifier": "d12c12x7tlerchgxu5lsv",
    "deletable": false,
    "editable": false,
    "nbgrader": {
     "grade": false,
     "locked": true,
     "solution": false
    }
   },
   "outputs": [],
   "source": [
    "def genFeatures(dimension, language2features, file_german, file_english):\n",
    "    \"\"\"\n",
    "    function [x,y]=genFeatures\n",
    "    \n",
    "    This function calls \"language2features.py\" to convert \n",
    "    words into feature vectors and load training data. \n",
    "    \n",
    "    language2features: function that extracts features from language word\n",
    "    dimension: dimensionality of the features\n",
    "    \n",
    "    Output: \n",
    "    x: n feature vectors of dimensionality d (n,d)\n",
    "    y: n labels (-1 = German, +1 = English)\n",
    "    \"\"\"\n",
    "    \n",
    "    # Load in the data\n",
    "    Xgerman = language2features(file_german, B=dimension)\n",
    "    Xenglish = language2features(file_english, B=dimension)\n",
    "    X = np.concatenate([Xgerman, Xenglish])\n",
    "    \n",
    "    # Generate Labels\n",
    "    Y = np.concatenate([-np.ones(len(Xgerman)), np.ones(len(Xenglish))])\n",
    "    \n",
    "    # shuffle data into random order\n",
    "    ii = np.random.permutation([i for i in range(len(Y))])\n",
    "    \n",
    "    return X[ii, :], Y[ii]"
   ]
  },
  {
   "cell_type": "markdown",
   "metadata": {
    "cellIdentifier": "4gx9glpovmsfhaa0pjgyxh",
    "deletable": false,
    "editable": false,
    "nbgrader": {
     "grade": false,
     "locked": true,
     "solution": false
    }
   },
   "source": [
    "You can call the following command to load features and labels of all German and English words."
   ]
  },
  {
   "cell_type": "code",
   "execution_count": 7,
   "metadata": {
    "cellIdentifier": "6t8xc504gkkql427ssckqd",
    "nbgrader": {
     "grade": false,
     "locked": false,
     "solution": false
    }
   },
   "outputs": [],
   "source": [
    "X,Y = genFeatures(26, language2features, \"german_train.txt\", \"english_train.txt\")\n",
    "xTe, yTe = genFeatures(26, language2features, \"german_test.txt\", \"english_test.txt\")"
   ]
  },
  {
   "cell_type": "markdown",
   "metadata": {
    "cellIdentifier": "0hnjpsikttjurhof4zoi9oc",
    "deletable": false,
    "editable": false,
    "nbgrader": {
     "grade": false,
     "locked": true,
     "solution": false
    }
   },
   "source": [
    "<h3> Multinomial Na&iuml;ve Bayes Classifier </h3>\n",
    "\n",
    "<p> The Na&iuml;ve Bayes classifier is a linear classifier based on Bayes Rule. The following questions will ask you to finish these functions in a pre-defined order. <br></p>\n",
    "<p>(a) Estimate the class probability P(Y) in \n",
    "<b><code>naivebayesPY</code></b>\n",
    ". This should return the probability that a sample in the training set is positive or negative, independent of its features.\n",
    "</p>\n",
    "\n"
   ]
  },
  {
   "cell_type": "code",
   "execution_count": 8,
   "metadata": {
    "cellIdentifier": "9xn8vwfat8mw0tes9rsi6i"
   },
   "outputs": [],
   "source": [
    "#<GRADED>\n",
    "def naivebayesPY(x,y):\n",
    "    \"\"\"\n",
    "    function [pos,neg] = naivebayesPY(x,y);\n",
    "\n",
    "    Computation of P(Y)\n",
    "    Input:\n",
    "        x : n input vectors of d dimensions (n,d)\n",
    "        y : n labels (-1 or +1) (n,)\n",
    "\n",
    "    Output:\n",
    "    pos: probability p(y=1)\n",
    "    neg: probability p(y=-1)\n",
    "    \"\"\"\n",
    "    n,d = x.shape\n",
    "    pos = 0\n",
    "    neg = 0\n",
    "    \n",
    "    for i in range(n):\n",
    "        if y[i] == 1:\n",
    "            pos += 1\n",
    "        else:\n",
    "            neg += 1\n",
    "    \n",
    "    return (pos / (neg + pos)), (neg / (neg + pos))\n",
    "\n",
    "#</GRADED>\n",
    "\n",
    "pos,neg = naivebayesPY(X,Y)"
   ]
  },
  {
   "cell_type": "markdown",
   "metadata": {
    "cellIdentifier": "3xc8jsj0363u8gq2r8bts",
    "deletable": false,
    "editable": false,
    "nbgrader": {
     "grade": false,
     "locked": true,
     "solution": false
    }
   },
   "source": [
    "<p>(b) Estimate the conditional probabilities P(X|Y) <b>(Maximum Likelihood Estimate)</b> without smoothing in \n",
    "<b><code>naivebayesPXY_mle</code></b>\n",
    ".  Use a <b>multinomial</b> distribution as model. This will return the probability vectors  for all features given a class label.\n",
    "Stated differently, the output vector should have dimensions equal to the number of letters of the alphabet. For each index i, we ask you to find the probability that any letter of any word contains this ith letter of the alphabet.  \n",
    "</p> "
   ]
  },
  {
   "cell_type": "code",
   "execution_count": 11,
   "metadata": {
    "cellIdentifier": "1k203e95ipf7sq6bwjt8"
   },
   "outputs": [],
   "source": [
    "#<GRADED>\n",
    "def naivebayesPXY_mle(x,y):\n",
    "    \"\"\"\n",
    "    function [posprob,negprob] = naivebayesPXY(x,y);\n",
    "    \n",
    "    Computation of P(X|Y) -- Maximum Likelihood Estimate\n",
    "    Input:\n",
    "        x : n input vectors of d dimensions (n,d)\n",
    "        y : n labels (-1 or +1) (n,)\n",
    "    \n",
    "    Output:\n",
    "    posprob: probability vector of p(x=ith letter of alphabet|y=1) (d,)\n",
    "    negprob: probability vector of p(x=ith letter of alphabet|y=-1) (d,)\n",
    "    \"\"\"\n",
    "    n,d = x.shape\n",
    "    pos_vec = np.zeros(d)\n",
    "    neg_vec = np.zeros(d)\n",
    "    \n",
    "    for j in range (d):\n",
    "        for i in range (n):\n",
    "            if y[i] == 1:\n",
    "                pos_vec[j] += x[i][j]\n",
    "            else:\n",
    "                neg_vec[j] += x[i][j]\n",
    "    \n",
    "    tot_sum_pos = 0\n",
    "    \n",
    "    for i in range (d):\n",
    "        tot_sum_pos += pos_vec[i] \n",
    "        \n",
    "    tot_sum_neg = 0\n",
    "    \n",
    "    for i in range (d):\n",
    "        tot_sum_neg += neg_vec[i] \n",
    "    \n",
    "    \n",
    "    for i in range (d):\n",
    "        pos_vec[i] = pos_vec[i] / tot_sum_pos\n",
    "        \n",
    "    for i in range (d):\n",
    "        neg_vec[i] = neg_vec[i] / tot_sum_neg\n",
    "        \n",
    "    posprob = pos_vec\n",
    "    negprob = neg_vec\n",
    "    \n",
    "    return posprob, negprob\n",
    "    \n",
    "    \n",
    "#</GRADED>\n",
    "\n",
    "posprob_mle,negprob_mle = naivebayesPXY_mle(X,Y)"
   ]
  },
  {
   "cell_type": "markdown",
   "metadata": {
    "cellIdentifier": "jiey2zorohafmi4e3vbm0h"
   },
   "source": [
    "<p>(c) Estimate the conditional probabilities P(X|Y) <b>(Smoothing with Laplace estimate)</b> in \n",
    "<b><code>naivebayesPXY_smoothing</code></b>\n",
    ".  Use a <b>multinomial</b> distribution as model. This will return the probability vectors  for all features given a class label.\n",
    "</p> "
   ]
  },
  {
   "cell_type": "code",
   "execution_count": null,
   "metadata": {
    "cellIdentifier": "3e2pfsy08u0f50apayfa"
   },
   "outputs": [],
   "source": [
    "#<GRADED>\n",
    "def naivebayesPXY_smoothing(x,y):\n",
    "    \n",
    "    \"\"\"\n",
    "    function [posprob,negprob] = naivebayesPXY(x,y);\n",
    "    \n",
    "    Computation of P(X|Y) -- Smoothing with Laplace estimate\n",
    "    Input:\n",
    "        x : n input vectors of d dimensions (n,d)\n",
    "        y : n labels (-1 or +1) (n,)\n",
    "    \n",
    "    Output:\n",
    "    posprob: probability vector of p(x|y=1) (d,)\n",
    "    negprob: probability vector of p(x|y=-1) (d,)\n",
    "    \"\"\"\n",
    "  \n",
    "    n,d = x.shape\n",
    "    pos_vec = np.zeros(d)\n",
    "    neg_vec = np.zeros(d)\n",
    "    \n",
    "    for j in range (d):\n",
    "        for i in range (n):\n",
    "            if y[i] == 1:\n",
    "                pos_vec[j] += x[i][j]\n",
    "            else:\n",
    "                neg_vec[j] += x[i][j]\n",
    "    \n",
    "    tot_sum_pos = 0\n",
    "    \n",
    "    for i in range (d):\n",
    "        tot_sum_pos += pos_vec[i] \n",
    "        \n",
    "    tot_sum_neg = 0\n",
    "    \n",
    "    for i in range (d):\n",
    "        tot_sum_neg += neg_vec[i] \n",
    "    \n",
    "    \n",
    "    for i in range (d):\n",
    "        pos_vec[i] = (pos_vec[i] + 1) / (tot_sum_pos + d)\n",
    "        \n",
    "    for i in range (d):\n",
    "        neg_vec[i] = (neg_vec[i] + 1) / (tot_sum_neg + d)\n",
    "        \n",
    "    posprob = pos_vec\n",
    "    negprob = neg_vec\n",
    "    \n",
    "    return posprob, negprob\n",
    "    \n",
    "    \n",
    "#</GRADED>\n",
    "\n",
    "posprob_smoothing,negprob_smoothing = naivebayesPXY_smoothing(X,Y)"
   ]
  },
  {
   "cell_type": "markdown",
   "metadata": {
    "cellIdentifier": "tt41tmhrsh2bjtjmym52y",
    "deletable": false,
    "editable": false,
    "nbgrader": {
     "grade": false,
     "locked": true,
     "solution": false
    }
   },
   "source": [
    "<p>(d) Solve for the log ratio, $\\log\\left(\\frac{P(Y=1 | X = xtest)}{P(Y=-1|X= xtest)}\\right)$, using Bayes Rule. Doing this in log space is important to avoid underflow. Make sure to first log the probabilities and then sum them.\n",
    " Implement this in \n",
    "<b><code>naivebayes</code></b>.\n",
    "</p>\n",
    "\n"
   ]
  },
  {
   "cell_type": "code",
   "execution_count": null,
   "metadata": {
    "cellIdentifier": "m3oor0848veln17r243ckr"
   },
   "outputs": [],
   "source": [
    "#<GRADED>\n",
    "def naivebayes(x,y,xtest,naivebayesPXY):\n",
    "    \"\"\"\n",
    "    function logratio = naivebayes(x,y);\n",
    "    \n",
    "    Computation of log P(Y|X=x1) using Bayes Rule\n",
    "    Input:\n",
    "    x : n input vectors of d dimensions (n,d)\n",
    "    y : n labels (-1 or +1) (n,)\n",
    "    xtest: input vector of d dimensions (d,)\n",
    "    naivebayesPXY: input function for getting conditional probabilities (naivebayesPXY_smoothing OR naivebayesPXY_mle)\n",
    "    \n",
    "    Output:\n",
    "    logratio: log (P(Y = 1|X=xtest)/P(Y=-1|X=xtest))\n",
    "    \n",
    "    log (P(Y|X)) = log (P(X|Y)P(Y))\n",
    "    Find P(X | Y = 1) * P( Y = 1), find P(X | Y = -1) * P (Y = -1)\n",
    "    \n",
    "    \"\"\"\n",
    "    import math\n",
    "    posprob_mle,negprob_mle = naivebayesPXY(x,y)\n",
    "    \n",
    "    pos,neg = naivebayesPY(x,y)\n",
    "    \n",
    "    n,d = x.shape\n",
    "\n",
    "    logratio = np.zeros(d)\n",
    "    \n",
    "    \n",
    "    for i in range (d):\n",
    "        if (xtest[i] == 0):\n",
    "            logratio[i] = 0\n",
    "        else:\n",
    "            logratio[i] = math.log(posprob_mle[i]) - math.log(negprob_mle[i])\n",
    "    \n",
    "    logoutput = 0\n",
    "    \n",
    "    for i in range (d):\n",
    "        logoutput += logratio[i] \n",
    "    \n",
    "    logoutput = logoutput + math.log(pos) - math.log(neg)\n",
    "\n",
    "    ## TODO 4\n",
    "    \n",
    "    return logoutput\n",
    "    \n",
    "#</GRADED>\n",
    "p_smoothing = naivebayes(X,Y,X[0,:], naivebayesPXY_smoothing)\n",
    "p_mle = naivebayes(X,Y,X[0,:], naivebayesPXY_mle)"
   ]
  },
  {
   "cell_type": "markdown",
   "metadata": {
    "cellIdentifier": "s4o1064wi1oubsbstt8k1q",
    "deletable": false,
    "editable": false,
    "nbgrader": {
     "grade": false,
     "locked": true,
     "solution": false
    }
   },
   "source": [
    "<p>(e) Naïve Bayes can also be written as a linear classifier. Implement this in \n",
    "<b><code>naivebayesCL</code></b>."
   ]
  },
  {
   "cell_type": "code",
   "execution_count": null,
   "metadata": {
    "cellIdentifier": "radm55pfwwa20bxcm9kb0x"
   },
   "outputs": [],
   "source": [
    "#<GRADED>\n",
    "def naivebayesCL(x,y,naivebayesPXY):\n",
    "    \"\"\"\n",
    "    function [w,b]=naivebayesCL(x,y);\n",
    "    Implementation of a Naive Bayes classifier\n",
    "    Input:\n",
    "    x : n input vectors of d dimensions (n,d)\n",
    "    y : n labels (-1 or +1) (n,)\n",
    "    naivebayesPXY: input function for getting conditional probabilities (naivebayesPXY_smoothing OR naivebayesPXY_mle)\n",
    "\n",
    "    Output:\n",
    "    w : weight vector of d dimensions (d,)\n",
    "    b : bias (scalar)\n",
    "    \"\"\"\n",
    "    import math\n",
    "    n, d = x.shape\n",
    "    pos, neg = naivebayesPY(x,y)\n",
    "    b = math.log (pos / neg)\n",
    "    \n",
    "    w = np.zeros(d)\n",
    "    \n",
    "    posprob_smoothing, negprob_smoothing = naivebayesPXY(x,y)\n",
    "    \n",
    "    for i in range (d):\n",
    "        w[i] = math.log (posprob_smoothing[i] / negprob_smoothing[i])\n",
    "    \n",
    "    return w, b\n",
    "\n",
    "\n",
    "#</GRADED>\n",
    "\n",
    "w_smoothing,b_smoothing = naivebayesCL(X,Y, naivebayesPXY_smoothing)\n",
    "w_mle,b_mle = naivebayesCL(X,Y, naivebayesPXY_mle)"
   ]
  },
  {
   "cell_type": "markdown",
   "metadata": {
    "cellIdentifier": "qxhfev4kmap51g7qu0ugri",
    "deletable": false,
    "editable": false,
    "nbgrader": {
     "grade": false,
     "locked": true,
     "solution": false
    }
   },
   "source": [
    "<p>(f) Implement \n",
    "<b><code>classifyLinear</code></b>\n",
    " that applies a linear weight vector and bias to a set of input vectors and outputs their predictions.  (You can use your answer from the previous project.)\n",
    " \n",
    " "
   ]
  },
  {
   "cell_type": "code",
   "execution_count": 15,
   "metadata": {
    "cellIdentifier": "d33creoo9omixpl2ip9lk8"
   },
   "outputs": [
    {
     "name": "stdout",
     "output_type": "stream",
     "text": [
      "Training error (Smoothing with Laplace estimate): 50.00%\n",
      "Training error (Maximum Likelihood Estimate): 50.00%\n",
      "Test error (Smoothing with Laplace estimate): 50.00%\n",
      "Test error (Maximum Likelihood Estimate): 50.00%\n"
     ]
    }
   ],
   "source": [
    "#<GRADED>\n",
    "def classifyLinear(x,w,b=0):\n",
    "    \"\"\"\n",
    "    function preds=classifyLinear(x,w,b);\n",
    "    \n",
    "    Make predictions with a linear classifier. Predictions should be signed. \n",
    "    Input:\n",
    "    x : n input vectors of d dimensions (n,d)\n",
    "    w : weight vector of d dimensions (d,)\n",
    "    b : bias (optional)\n",
    "    \n",
    "    Output:\n",
    "    preds: predictions\n",
    "    \"\"\"\n",
    "    n,d = x.shape\n",
    "    preds = np.zeros(n)\n",
    "    \n",
    "    for i in range (n):\n",
    "        if (w@x[i] + b) > 0:\n",
    "            preds[i] = 1\n",
    "        else:\n",
    "            preds[i] = -1\n",
    "    \n",
    "    return preds\n",
    "\n",
    "#</GRADED>\n",
    "\n",
    "print('Training error (Smoothing with Laplace estimate): %.2f%%' % (100 *(classifyLinear(X, w_smoothing, b_smoothing) != Y).mean()))\n",
    "print('Training error (Maximum Likelihood Estimate): %.2f%%' % (100 *(classifyLinear(X, w_mle, b_mle) != Y).mean()))\n",
    "print('Test error (Smoothing with Laplace estimate): %.2f%%' % (100 *(classifyLinear(xTe, w_smoothing, b_smoothing) != yTe).mean()))\n",
    "print('Test error (Maximum Likelihood Estimate): %.2f%%' % (100 *(classifyLinear(xTe, w_mle, b_mle) != yTe).mean()))\n"
   ]
  },
  {
   "cell_type": "markdown",
   "metadata": {
    "cellIdentifier": "y8n40pjwdfg6al52tw3qra",
    "deletable": false,
    "editable": false,
    "nbgrader": {
     "grade": false,
     "locked": true,
     "solution": false
    }
   },
   "source": [
    "You can now test your code with the following interactive word classification script. Use the word 'exit' to stop the program."
   ]
  },
  {
   "cell_type": "code",
   "execution_count": null,
   "metadata": {
    "cellIdentifier": "3b2ot7g1lony50unmftd7",
    "scrolled": true
   },
   "outputs": [
    {
     "name": "stdout",
     "output_type": "stream",
     "text": [
      "Loading data ...\n",
      "Training classifier (Smoothing with Laplace estimate) ...\n",
      "Training error (Smoothing with Laplace estimate): 50.00%\n",
      "Test error (Smoothing with Laplace estimate): 50.00%\n"
     ]
    }
   ],
   "source": [
    "DIMS = 26\n",
    "print('Loading data ...')\n",
    "X,Y = genFeatures(DIMS, language2features, \"german_train.txt\", \"english_train.txt\")\n",
    "xTe, yTe = genFeatures(26, language2features, \"german_test.txt\", \"english_test.txt\")\n",
    "print('Training classifier (Smoothing with Laplace estimate) ...')\n",
    "w,b=naivebayesCL(X,Y,naivebayesPXY_smoothing)\n",
    "train_error = np.mean(classifyLinear(X,w,b) != Y)\n",
    "test_error = np.mean(classifyLinear(xTe,w,b) != yTe)\n",
    "print('Training error (Smoothing with Laplace estimate): %.2f%%' % (100 * train_error))\n",
    "print('Test error (Smoothing with Laplace estimate): %.2f%%' % (100 * test_error))\n",
    "\n",
    "yourword = \"\"\n",
    "while yourword!=\"exit\":\n",
    "    yourword = input()\n",
    "    if len(yourword) < 1:\n",
    "        break\n",
    "    xtest = language2features(yourword,B=DIMS,LoadFile=False)\n",
    "    pred = classifyLinear(xtest,w,b)[0]\n",
    "    if pred > 0:\n",
    "        print(\"%s, is an english word.\\n\" % yourword)\n",
    "    else:\n",
    "        print(\"%s, is a german word.\\n\" % yourword)"
   ]
  },
  {
   "cell_type": "markdown",
   "metadata": {
    "cellIdentifier": "tq1by1obfnr470phi7fwp",
    "deletable": false,
    "editable": false,
    "nbgrader": {
     "grade": false,
     "locked": true,
     "solution": false
    }
   },
   "source": [
    "<h3> Feature Extraction</h3>\n",
    "\n",
    "<p> Similar to how we extracted features from words in <code>feature_extraction_letters</code>, we are going to try another way of doing so. This time, instead of mapping a letter to a feature, we will map a pair of letters to a feature. </p>\n",
    "    \n",
    "<p>\n",
    "Every element in the feature vector will represent a pair of letters (e.g. 'aa', 'ab', 'ac'...) and the element representing the pair of letters that occur in the word will be the number of occurence. Make sure your feature vector <b> ordering is alphabetical </b> i.e. ['aa', 'ab', 'ac'.....'ba', 'bb'......'ca','cb'......]. The length of the feature vector will be $26^2 = 676$ to represent all possible pairs of 26 letters. Assume everything is in lower case.\n",
    "</p>\n",
    "\n",
    "<p>\n",
    "Here’s an example: for the word \"mama\", the elements in the feature vector corresponding to the bigram \"ma\" will have a value of 2, and \"am\" will have a value of 1. The remaining 674 features will all be 0.\n",
    "<b>Note:</b> although the occurence of bigram \"am\" in the word “mama” is more likely if the word already contains the bigram \"ma\" (i.e. the occurrence of bigrams depends on previous bigrams), in this project, we make a \"naive\" assumption that bigrams occur independently.\n",
    "</p>\n",
    "\n",
    "<p>\n",
    "Please modify <code><b>feature_extraction_letters_pairs</b></code> below to implement this feature extraction.\n",
    "</p>"
   ]
  },
  {
   "cell_type": "code",
   "execution_count": null,
   "metadata": {
    "cellIdentifier": "g0orfrg1tj6wok2fb5ccoq"
   },
   "outputs": [],
   "source": [
    "#<GRADED>\n",
    "def feature_extraction_letters_pairs(word, B=676):\n",
    "    \"\"\"\n",
    "    Feature extration from word for pairs\n",
    "    word: word of the language as a string\n",
    "    \n",
    "    Output:\n",
    "    v : a feature vector of dimension B=676, (B,)\n",
    "    \"\"\"\n",
    "    v = np.zeros(B)\n",
    "    \n",
    "    \n",
    "    \n",
    "    for i in range (len(word) - 1):\n",
    "        first_char = word[i]\n",
    "        second_char = word[i+1]\n",
    "        v_ind = (26 * (ord(first_char) - ord('a'))) + (ord(second_char) - ord('a'))\n",
    "        v[v_ind] += 1\n",
    "    \n",
    "    return v\n",
    "    \n",
    "def language2features_pairs(filename, B=676, LoadFile=True):\n",
    "    \"\"\"\n",
    "    Output:\n",
    "    X : n feature vectors of dimension B, (n,B)\n",
    "    \"\"\"\n",
    "    if LoadFile:\n",
    "        with open(filename, 'r') as f:\n",
    "            words = [x.rstrip() for x in f.readlines() if len(x) > 0]\n",
    "    else:\n",
    "        words = filename.split('\\n')\n",
    "    n = len(words)\n",
    "    X = np.zeros((n, B))\n",
    "    for i in range(n):\n",
    "        X[i,:] = feature_extraction_letters_pairs(words[i].lower(), B)\n",
    "    return X\n",
    "\n",
    "#</GRADED>"
   ]
  },
  {
   "cell_type": "markdown",
   "metadata": {
    "cellIdentifier": "on4cwlsh67chxt9uipip8f"
   },
   "source": [
    "You can now test your code with the following interactive word classification script:"
   ]
  },
  {
   "cell_type": "code",
   "execution_count": null,
   "metadata": {
    "cellIdentifier": "b06w8y5yr8nga4zmko5boj",
    "scrolled": false
   },
   "outputs": [],
   "source": [
    "''' result of the Naive Bayes classifier using pairs of letters as features '''\n",
    "DIMS = 676\n",
    "print('Loading data ...')\n",
    "Xp,Yp = genFeatures(676, language2features_pairs, \"german_train.txt\", \"english_train.txt\")\n",
    "xTe, yTe = genFeatures(676, language2features_pairs, \"german_test.txt\", \"english_test.txt\")\n",
    "print('Training classifier (Smoothing with Laplace estimate) ...')\n",
    "w,b=naivebayesCL(Xp,Yp,naivebayesPXY_smoothing)\n",
    "train_error = np.mean(classifyLinear(Xp,w,b) != Yp)\n",
    "print('Training error (Smoothing with Laplace estimate): %.2f%%' % (100 * train_error))\n",
    "test_error = np.mean(classifyLinear(xTe,w,b) != yTe)\n",
    "print('Test error (Smoothing with Laplace estimate): %.2f%%' % (100 * test_error))\n",
    "\n",
    "yourword = \"\"\n",
    "while yourword!=\"exit\":\n",
    "    yourword = input()\n",
    "    if len(yourword) < 1:\n",
    "        break\n",
    "    xtest = language2features(yourword,B=DIMS,LoadFile=False)\n",
    "    pred = classifyLinear(xtest,w,b)[0]\n",
    "    if pred > 0:\n",
    "        print(\"%s, is an english word.\\n\" % yourword)\n",
    "    else:\n",
    "        print(\"%s, is a german word.\\n\" % yourword)"
   ]
  },
  {
   "cell_type": "markdown",
   "metadata": {
    "cellIdentifier": "acfo38h42xu591wd8zayvd"
   },
   "source": [
    "Why do you think we are not running the naïve Bayes classifier with the __maximum likelihood estimates__ in the previous cell?"
   ]
  },
  {
   "cell_type": "markdown",
   "metadata": {
    "cellIdentifier": "8euzyvfoastxcwxsvaye9h"
   },
   "source": [
    "<h3>GenAI</h3>\n",
    "You must disclose and describe any use of GenAI in this project. You are allowed to use SAI and HiTA. You are also allowed to use other GenAI tools, but you are not allowed to post any text that you did not write yourself (i.e., anything in this notebook template). Think of the GenAI as a TA who can help you with its knowledge of python, but who should not do the ML for you.\n",
    "\n",
    "If you use any GenAI, please paste the interaction below:"
   ]
  },
  {
   "cell_type": "markdown",
   "metadata": {
    "cellIdentifier": "704obqhxw5lunj0286i98s"
   },
   "source": []
  }
 ],
 "metadata": {
  "anaconda-cloud": [],
  "kernel_id": "fd0f0819-f4f0-4bbb-89c2-62bc243067da",
  "kernel_info": {
   "name": "python3"
  },
  "kernelspec": {
   "display_name": "Python 3 [3.10]",
   "language": "python",
   "name": "python3"
  },
  "language_info": {
   "codemirror_mode": {
    "name": "ipython",
    "version": 3
   },
   "file_extension": ".py",
   "mimetype": "text/x-python",
   "name": "python",
   "nbconvert_exporter": "python",
   "pygments_lexer": "ipython3",
   "version": "3.10.2"
  },
  "nteract": {
   "version": "0.15.0"
  }
 },
 "nbformat": 4,
 "nbformat_minor": 1
}
